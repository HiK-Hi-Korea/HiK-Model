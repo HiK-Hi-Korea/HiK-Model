{
 "cells": [
  {
   "cell_type": "code",
   "execution_count": 77,
   "metadata": {},
   "outputs": [],
   "source": [
    "import openai\n",
    "import os\n",
    "from dotenv import load_dotenv\n",
    "\n",
    "load_dotenv()\n",
    "\n",
    "OPENAI_API_KEY = os.getenv('OPENAI_API_KEY')\n",
    "openai.api_key = OPENAI_API_KEY"
   ]
  },
  {
   "cell_type": "code",
   "execution_count": 78,
   "metadata": {},
   "outputs": [],
   "source": [
    "system = \"\"\"You are an AI assistant specializing in English to Korean translation and Korean Style Translation. Your task consists of two steps.\n",
    "The first step is to translate the given sentences into Korean. And the next step is to translate the sentence translated in the first step according to the listener and intimacy. \n",
    "The process of two steps follows the [Instruction] below.\n",
    "\n",
    "[Instruction]\n",
    "- You must follow the two steps in order.\n",
    "- You should be done for natural translation that can be easily understood by any Korean.\n",
    "- It is a situation in which you have a conversation with a seller or buyer in an online used transaction situation.\n",
    "- It is better to add a word that can express that it is an online transaction situation.\n",
    "- If the listener is buyer and the intimacy is 1 or 2 or 3, you have to speak politely.\n",
    "- If the listener is seller and the intimacy is 1 or 2 or 3, you have to speak politely.\n",
    "- If the listener is not a buyer and a seller, you should use honorifics.\n",
    "- When making second-hand transactions online, everyone should use a polite tone when selling or purchasing.\n",
    "- Don't forget that you're doing secondhand transactions online.\n",
    "- You only need to print one sentence depending on the listener and intimacy.\n",
    "\n",
    "[Example1]\n",
    "<Input>\n",
    "sentence: \"I want to meet you\"\n",
    "Case 1) Filter - location: online-transaction, listener: buyer, intimacy: 1, 2, 3\n",
    "<Output> \n",
    "\"판매자님 만나서 거래하고 싶어요.\"\n",
    "Case 2) Filter - location: online-transaction, listener: seller, intimacy: 1, 2, 3\n",
    "<Output> \n",
    "\"구매자님 만나서 거래하고 싶어요.\"\n",
    "\n",
    "Ensure that your translations perfectly adhere to these [Instructions].\n",
    "\"\"\""
   ]
  },
  {
   "cell_type": "code",
   "execution_count": 79,
   "metadata": {},
   "outputs": [],
   "source": [
    "def get_completion(prompt, model=\"gpt-4\"):\n",
    "    messages = [\n",
    "        {\"role\": \"system\", \"content\": system},\n",
    "        {\"role\": \"user\", \"content\": prompt}]\n",
    "    response = openai.ChatCompletion.create(\n",
    "        model=model,\n",
    "        messages=messages,\n",
    "        temperature=0, \n",
    "    )\n",
    "    return response.choices[0].message[\"content\"]"
   ]
  },
  {
   "cell_type": "code",
   "execution_count": 84,
   "metadata": {},
   "outputs": [],
   "source": [
    "sentence = \"How much is it?\"\n",
    "location = \"online-transaction\"\n",
    "listener = \"buyer\"\n",
    "intimacy = \"1\""
   ]
  },
  {
   "cell_type": "code",
   "execution_count": 85,
   "metadata": {},
   "outputs": [
    {
     "name": "stdout",
     "output_type": "stream",
     "text": [
      "\"구매자님, 이 제품 얼마인지 알 수 있을까요?\"\n"
     ]
    }
   ],
   "source": [
    "prompt = f\"\"\"Transfer the style of the sentence according to the listener and intimacy below:\n",
    "<Input>\n",
    "sentence: {sentence}\n",
    "Filter - location: {location}, listener: {listener}, intimacy: {intimacy}\"\"\"\n",
    "\n",
    "response = get_completion(prompt)\n",
    "print(response)"
   ]
  }
 ],
 "metadata": {
  "kernelspec": {
   "display_name": "base",
   "language": "python",
   "name": "python3"
  },
  "language_info": {
   "codemirror_mode": {
    "name": "ipython",
    "version": 3
   },
   "file_extension": ".py",
   "mimetype": "text/x-python",
   "name": "python",
   "nbconvert_exporter": "python",
   "pygments_lexer": "ipython3",
   "version": "3.10.9"
  }
 },
 "nbformat": 4,
 "nbformat_minor": 2
}
