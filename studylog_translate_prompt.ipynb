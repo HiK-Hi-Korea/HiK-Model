{
 "cells": [
  {
   "cell_type": "code",
   "execution_count": 7,
   "metadata": {},
   "outputs": [],
   "source": [
    "import openai\n",
    "import os\n",
    "from dotenv import load_dotenv\n",
    "\n",
    "load_dotenv()\n",
    "\n",
    "OPENAI_API_KEY = os.getenv('OPENAI_API_KEY')\n",
    "openai.api_key = OPENAI_API_KEY"
   ]
  },
  {
   "cell_type": "code",
   "execution_count": 8,
   "metadata": {},
   "outputs": [],
   "source": [
    "system = \"\"\"You are an AI assistant specializing in Korean Style Translation. Your task is translate the sentence according to the location, listener and intimacy.\n",
    "The process follows the [Instruction] below.\n",
    "\n",
    "[Instruction]\n",
    "- You should be done for natural translation that can be easily understood by any Korean.\n",
    "- When translating a sentence, you have to naturally translate the language based on the location, listener, and intimacy of the given filter.\n",
    "\n",
    "[Example1]\n",
    "<Input>\n",
    "Input_Sentence: \"교수님 사랑합니다.\"\n",
    "Input__Filter - input_location: university, input_listener: professor, input_intimacy: 1\n",
    "Case 1) Filter - location: online-chatting, listener: friend, intimacy: 3\n",
    "<Output> \n",
    "\"사랑해\"\n",
    "Case 2) Filter - location: store, listener: grandmother, intimacy: 3\n",
    "<Output> \n",
    "\"할머니 사랑합니다.\"\n",
    "\n",
    "Ensure that your translations perfectly adhere to these [Instructions].\n",
    "\"\"\""
   ]
  },
  {
   "cell_type": "code",
   "execution_count": 9,
   "metadata": {},
   "outputs": [],
   "source": [
    "def get_completion(prompt, model=\"gpt-4\"):\n",
    "    messages = [\n",
    "        {\"role\": \"system\", \"content\": system},\n",
    "        {\"role\": \"user\", \"content\": prompt}]\n",
    "    response = openai.ChatCompletion.create(\n",
    "        model=model,\n",
    "        messages=messages,\n",
    "        temperature=0, \n",
    "    )\n",
    "    return response.choices[0].message[\"content\"]"
   ]
  },
  {
   "cell_type": "code",
   "execution_count": 10,
   "metadata": {},
   "outputs": [],
   "source": [
    "input_sentence = \"얼마인가요?\"\n",
    "input_location = \"online-transaction\"\n",
    "input_listener = \"buyer\"\n",
    "input_intimacy = \"1\"\n",
    "\n",
    "\n",
    "location = \"university\"\n",
    "listener = \"friend\"\n",
    "intimacy = \"3\""
   ]
  },
  {
   "cell_type": "code",
   "execution_count": 11,
   "metadata": {},
   "outputs": [
    {
     "name": "stdout",
     "output_type": "stream",
     "text": [
      "\"얼마야?\"\n"
     ]
    }
   ],
   "source": [
    "prompt = f\"\"\"Transfer the style of the sentence according to the location, listener and intimacy below:\n",
    "<Input>\n",
    "Input_Sentence: {input_sentence}\n",
    "Input__Filter - input_location: {input_location}, input_listener: {input_listener}, input_intimacy: {input_intimacy}\n",
    "Filter - location: {location}, listener: {listener}, intimacy: {intimacy}\n",
    "\"\"\"\n",
    "\n",
    "response = get_completion(prompt)\n",
    "print(response)"
   ]
  },
  {
   "cell_type": "code",
   "execution_count": null,
   "metadata": {},
   "outputs": [],
   "source": []
  },
  {
   "cell_type": "code",
   "execution_count": null,
   "metadata": {},
   "outputs": [],
   "source": []
  }
 ],
 "metadata": {
  "kernelspec": {
   "display_name": "base",
   "language": "python",
   "name": "python3"
  },
  "language_info": {
   "codemirror_mode": {
    "name": "ipython",
    "version": 3
   },
   "file_extension": ".py",
   "mimetype": "text/x-python",
   "name": "python",
   "nbconvert_exporter": "python",
   "pygments_lexer": "ipython3",
   "version": "3.10.9"
  }
 },
 "nbformat": 4,
 "nbformat_minor": 2
}
