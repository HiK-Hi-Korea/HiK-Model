{
 "cells": [
  {
   "cell_type": "code",
   "execution_count": 13,
   "metadata": {},
   "outputs": [],
   "source": [
    "import openai\n",
    "import os\n",
    "from dotenv import load_dotenv\n",
    "\n",
    "load_dotenv()\n",
    "\n",
    "OPENAI_API_KEY = os.getenv('OPENAI_API_KEY')\n",
    "openai.api_key = OPENAI_API_KEY"
   ]
  },
  {
   "cell_type": "code",
   "execution_count": 14,
   "metadata": {},
   "outputs": [],
   "source": [
    "system = \"\"\"You are an AI assistant specializing in English to Korean translation and Korean Style Translation. Your task consists of two steps.\n",
    "The first step is to translate the given sentences into Korean. And the next step is to translate the sentence translated in the first step according to the listener and intimacy.\n",
    "The process of two steps follows the [Instruction] below.\n",
    "\n",
    "[Instruction]\n",
    "- You must follow the two steps in order.\n",
    "- You should be done for natural translation that can be easily understood by any Korean.\n",
    "- Depending on the location, you have to use honorifics in public places and translate the sentence according to your intimacy and listener in private places.\n",
    "- You are 25 years old.\n",
    "- If someone older than you is a listener, you should use honorifics.\n",
    "- If you are a younger listener, you can translate the sentence according to intimacy.\n",
    "- In the course of the conversation, we have to change the style according to each listener and intimacy when a sentence comes in.\n",
    "- You only need to print the final one sentence depending on the listener and intimacy.\n",
    "\n",
    "[Example1]\n",
    "<Input>\n",
    "sentence: \"How old are you?\"\n",
    "<Output>\n",
    "Case 1) Filter: location - store, listener - elder, intimacy - 1 or 2 or 3\n",
    "\"연세가 어떻게 되시나요?\"\n",
    "Case 2) Filter: location - store, listener - younger, intimacy - 1\n",
    "\"몇살인가요?\"\n",
    "Case 3) Filter: location - store, listener - younger, intimacy - 2 or 3\n",
    "\"몇살이야?\"\n",
    "\n",
    "Ensure that your translations perfectly adhere to these [Instructions].\n",
    "\"\"\""
   ]
  },
  {
   "cell_type": "code",
   "execution_count": 15,
   "metadata": {},
   "outputs": [],
   "source": [
    "def get_completion(prompt, model=\"gpt-4\"):\n",
    "    messages = [\n",
    "        {\"role\": \"system\", \"content\": system},\n",
    "        {\"role\": \"user\", \"content\": prompt}]\n",
    "    response = openai.ChatCompletion.create(\n",
    "        model=model,\n",
    "        messages=messages,\n",
    "        temperature=0, \n",
    "    )\n",
    "    return response.choices[0].message[\"content\"]"
   ]
  },
  {
   "cell_type": "code",
   "execution_count": 18,
   "metadata": {},
   "outputs": [],
   "source": [
    "sentence = \"I have a question\"\n",
    "location = \"store\"\n",
    "listener = \"grandmother\"\n",
    "intimacy = \"1\""
   ]
  },
  {
   "cell_type": "code",
   "execution_count": 19,
   "metadata": {},
   "outputs": [
    {
     "name": "stdout",
     "output_type": "stream",
     "text": [
      "\"질문이 있습니다.\"\n"
     ]
    }
   ],
   "source": [
    "prompt = f\"\"\"Transfer the style of the sentence according to the listener and intimacy below:\n",
    "<Input>\n",
    "sentence: {sentence}\n",
    "Filter: location - {location}, listener - {listener}, intimacy - {intimacy}\"\"\"\n",
    "\n",
    "response = get_completion(prompt)\n",
    "print(response)"
   ]
  }
 ],
 "metadata": {
  "kernelspec": {
   "display_name": "base",
   "language": "python",
   "name": "python3"
  },
  "language_info": {
   "codemirror_mode": {
    "name": "ipython",
    "version": 3
   },
   "file_extension": ".py",
   "mimetype": "text/x-python",
   "name": "python",
   "nbconvert_exporter": "python",
   "pygments_lexer": "ipython3",
   "version": "3.10.9"
  }
 },
 "nbformat": 4,
 "nbformat_minor": 2
}
