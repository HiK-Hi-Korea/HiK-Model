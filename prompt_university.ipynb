{
 "cells": [
  {
   "cell_type": "code",
   "execution_count": 11,
   "metadata": {},
   "outputs": [],
   "source": [
    "import openai\n",
    "import os\n",
    "from dotenv import load_dotenv\n",
    "\n",
    "load_dotenv()\n",
    "\n",
    "OPENAI_API_KEY = os.getenv('OPENAI_API_KEY')\n",
    "openai.api_key = OPENAI_API_KEY"
   ]
  },
  {
   "cell_type": "code",
   "execution_count": 12,
   "metadata": {},
   "outputs": [],
   "source": [
    "system = \"\"\"You are an AI assistant specializing in English to Korean translation and Korean Style Translation. Your task consists of two steps.\n",
    "The first step is to translate the given sentences into Korean. And the next step is to translate the sentence translated in the first step according to the listener and intimacy.\n",
    "The process of two steps follows the [Instruction] below.\n",
    "\n",
    "[Instruction]\n",
    "- You must follow the two steps in order.\n",
    "- You should be done for natural translation that can be easily understood by any Korean.\n",
    "- It is a situation in which you meet professor, friend, staff, elder, younger, stranger or other people at university and talk to them.\n",
    "- If the listener is a professor and the intimacy is 1 or 2 or 3, you have to speak politely.\n",
    "- If the listener is a friend and the intimacy is 1, you have to use honorifics.\n",
    "- If the listener is a friend and the intimacy is 2, you have to use half honorifics.\n",
    "- If the listener is a friend and the intimacy is 3, you have to speak comfortably.\n",
    "- If the listener is a staff and the intimacy is 1 or 2 or 3, you have to speak honorifics.\n",
    "- If the listener is a elder and the intimacy is 1 or 2 or 3, you have to speak politely.\n",
    "- If the listener is a younger and the intimacy is 1, you have to speak honorifics.\n",
    "- If the listener is a younger and the intimacy is 2, you have to speak half honorifics.\n",
    "- If the listener is a younger and the intimacy is 3, you have to speak comfortably.\n",
    "- If the listener is a stranger and the intimacy is 1 or 2 or 3, you have to speak honorifics.\n",
    "- If the listener is not a professor, friend, staff, elder, younger, elder and stranger you should use honorifics.\n",
    "- In the course of the conversation, we have to change the style according to each listener and intimacy when a sentence comes in.\n",
    "- You only need to print one sentence depending on the listener and intimacy.\n",
    "\n",
    "[Example]\n",
    "<Input>\n",
    "sentence: \"How old are you?\"\n",
    "<Output>\n",
    "Case 1) Filter - location: university, listener: professor, intimacy: 1 or 2 or 3\n",
    "\"연세가 어떻게 되시나요?\"\n",
    "Case 2) Filter - location: university, listener: friend, intimacy: 1\n",
    "\"몇살인가요?\"\n",
    "Case 3) Filter - location: university, listener: friend, intimacy: 2\n",
    "\"몇살이야?\"\n",
    "Case 4) Filter - location: university, listener: friend, intimacy: 3\n",
    "\"몇살임?\"\n",
    "Case 5) Filter - location: university, listener: staff, intimacy: 1 or 2 or 3\n",
    "\"몇살인가요?\"\n",
    "Case 6) Filter - location: university, listener: elder, intimacy: 1 or 2 or 3\n",
    "\"연세가 어떻게 되시나요?\"\n",
    "Case 7) Filter - location: university, listener: younger, intimacy: 1\n",
    "\"몇살인가요?\"\n",
    "Case 8) Filter - location: university, listener: younger, intimacy: 2\n",
    "\"몇살이야?\"\n",
    "Case 9) Filter - location: university, listener: younger, intimacy: 3\n",
    "\"몇살임?\"\n",
    "Case 10) Filter - location: university, listener: stranger, intimacy: 1 or 2 or 3\n",
    "\"몇살인가요?\"\n",
    "\n",
    "Ensure that your translations perfectly adhere to these [Instructions].\n",
    "\"\"\""
   ]
  },
  {
   "cell_type": "code",
   "execution_count": 13,
   "metadata": {},
   "outputs": [],
   "source": [
    "def get_completion(prompt, model=\"gpt-4\"):\n",
    "    messages = [\n",
    "        {\"role\": \"system\", \"content\": system},\n",
    "        {\"role\": \"user\", \"content\": prompt}]\n",
    "    response = openai.ChatCompletion.create(\n",
    "        model=model,\n",
    "        messages=messages,\n",
    "        temperature=0, \n",
    "    )\n",
    "    return response.choices[0].message[\"content\"]"
   ]
  },
  {
   "cell_type": "code",
   "execution_count": 14,
   "metadata": {},
   "outputs": [],
   "source": [
    "sentence = \"How much is it?\"\n",
    "location = \"university\"\n",
    "listener = \"friend\"\n",
    "intimacy = \"3\""
   ]
  },
  {
   "cell_type": "code",
   "execution_count": 15,
   "metadata": {},
   "outputs": [
    {
     "name": "stdout",
     "output_type": "stream",
     "text": [
      "\"얼마임?\"\n"
     ]
    }
   ],
   "source": [
    "prompt = f\"\"\"Transfer the style of the sentence according to the listener and intimacy below:\n",
    "<Input>\n",
    "sentence: {sentence}\n",
    "Filter - location: {location}, listener: {listener}, intimacy: {intimacy}\"\"\"\n",
    "\n",
    "response = get_completion(prompt)\n",
    "print(response)"
   ]
  }
 ],
 "metadata": {
  "kernelspec": {
   "display_name": "base",
   "language": "python",
   "name": "python3"
  },
  "language_info": {
   "codemirror_mode": {
    "name": "ipython",
    "version": 3
   },
   "file_extension": ".py",
   "mimetype": "text/x-python",
   "name": "python",
   "nbconvert_exporter": "python",
   "pygments_lexer": "ipython3",
   "version": "3.10.9"
  }
 },
 "nbformat": 4,
 "nbformat_minor": 2
}
