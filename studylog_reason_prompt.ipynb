{
 "cells": [
  {
   "cell_type": "code",
   "execution_count": 22,
   "metadata": {},
   "outputs": [],
   "source": [
    "import openai\n",
    "import os\n",
    "from dotenv import load_dotenv\n",
    "\n",
    "load_dotenv()\n",
    "\n",
    "OPENAI_API_KEY = os.getenv('OPENAI_API_KEY')\n",
    "openai.api_key = OPENAI_API_KEY"
   ]
  },
  {
   "cell_type": "code",
   "execution_count": 23,
   "metadata": {},
   "outputs": [],
   "source": [
    "system = \"\"\"You are an AI assistant specializing in Korean Style Translation. Your task is explaining the reason why you translated the given sentence in such a way based on Korean grammar. \n",
    "The process follows the [Instruction] below.\n",
    "\n",
    "[Instruction]\n",
    "- You should be done for natural translation that can be easily understood by any Korean.\n",
    "- When explaining the reason why the sentence was translated, you must answer based on Korean grammar and given filter value(location, listener, intimacy).\n",
    "- Most importantly, you have to answer which words were translated how and why according to Korean grammar.\n",
    "\n",
    "[Example1]\n",
    "<Input>\n",
    "Input_Sentence: \"나는 너를 사랑한다.\"\n",
    "Input__Filter - input_location: university, input_listener: student, input_intimacy: 1\n",
    "Translated_Sentence: \"난 널 사랑해\"\n",
    "Filter - location: online-chatting, listener: friend, intimacy: 3\n",
    "<Output> \n",
    "\"\n",
    "The difference in speech levels between \"나는 너를 사랑한다.\" and \"난 널 사랑해.\" stems from the linguistic structure and rules of formality and informality in the Korean language. The former is expressed in formal language, where the subject '나는' and the object '너를' are presented accurately, and the verb '사랑한다' is formulated in a formal tone. On the other hand, the latter is in informal language, with contractions like '난' for '나는' and '널' for '너를,' reflecting casual vocabulary usage. The verb '사랑해' is also in an informal tone. The reason for this distinction lies primarily in choosing an appropriate tone based on the relationship between the speaker and the listener and the context of the conversation, adhering to the rules of formal and informal language use in Korean.\"\n",
    "\n",
    "Ensure that your translations perfectly adhere to these [Instructions].\n",
    "\"\"\""
   ]
  },
  {
   "cell_type": "code",
   "execution_count": 24,
   "metadata": {},
   "outputs": [],
   "source": [
    "def get_completion(prompt, model=\"gpt-4\"):\n",
    "    messages = [\n",
    "        {\"role\": \"system\", \"content\": system},\n",
    "        {\"role\": \"user\", \"content\": prompt}]\n",
    "    response = openai.ChatCompletion.create(\n",
    "        model=model,\n",
    "        messages=messages,\n",
    "        temperature=0, \n",
    "    )\n",
    "    return response.choices[0].message[\"content\"]"
   ]
  },
  {
   "cell_type": "code",
   "execution_count": 25,
   "metadata": {},
   "outputs": [],
   "source": [
    "input_sentence = \"다음 주에 봐요\"\n",
    "input_location = \"supermarket\"\n",
    "input_listener = \"friend\"\n",
    "input_intimacy = \"1\"\n",
    "\n",
    "translated_sentence = \"다음 주에 봐\"\n",
    "location = \"university\"\n",
    "listener = \"friend\"\n",
    "intimacy = \"2\""
   ]
  },
  {
   "cell_type": "code",
   "execution_count": 26,
   "metadata": {},
   "outputs": [
    {
     "name": "stdout",
     "output_type": "stream",
     "text": [
      "The input sentence \"다음 주에 봐요\" is in polite form, suitable for a casual conversation with a friend in a public place like a supermarket. However, the translated sentence \"다음 주에 봐\" is in informal language, which is more appropriate for a conversation between close friends at a university. The verb '봐요' is changed to '봐' to reflect the higher intimacy level. This change is in line with Korean language rules, where the level of formality and politeness is adjusted based on the relationship and context.\n"
     ]
    }
   ],
   "source": [
    "prompt = f\"\"\"Explain how the input sentence was translated into translated sentense based on the location, listener and intimacy of the input filter and the filter used in the translation. Print out your answer in less than 500 characters. The input sentence, translated sentence, and filters used are as follows.\n",
    "<Input>\n",
    "Input_Sentence: {input_sentence}\n",
    "Input__Filter - input_location: {input_location}, input_listener: {input_listener}, input_intimacy: {input_intimacy}\n",
    "Translated_Sentence: {translated_sentence}\n",
    "Filter - location: {location}, listener: {listener}, intimacy: {intimacy}\"\"\"\n",
    "\n",
    "response = get_completion(prompt)\n",
    "print(response)"
   ]
  },
  {
   "cell_type": "code",
   "execution_count": null,
   "metadata": {},
   "outputs": [],
   "source": []
  },
  {
   "cell_type": "code",
   "execution_count": null,
   "metadata": {},
   "outputs": [],
   "source": []
  }
 ],
 "metadata": {
  "kernelspec": {
   "display_name": "base",
   "language": "python",
   "name": "python3"
  },
  "language_info": {
   "codemirror_mode": {
    "name": "ipython",
    "version": 3
   },
   "file_extension": ".py",
   "mimetype": "text/x-python",
   "name": "python",
   "nbconvert_exporter": "python",
   "pygments_lexer": "ipython3",
   "version": "3.10.9"
  }
 },
 "nbformat": 4,
 "nbformat_minor": 2
}
