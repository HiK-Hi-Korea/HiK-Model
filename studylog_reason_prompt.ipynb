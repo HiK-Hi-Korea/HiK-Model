{
 "cells": [
  {
   "cell_type": "code",
   "execution_count": 18,
   "metadata": {},
   "outputs": [],
   "source": [
    "import openai\n",
    "import os\n",
    "from dotenv import load_dotenv\n",
    "\n",
    "load_dotenv()\n",
    "\n",
    "OPENAI_API_KEY = os.getenv('OPENAI_API_KEY')\n",
    "openai.api_key = OPENAI_API_KEY"
   ]
  },
  {
   "cell_type": "code",
   "execution_count": 19,
   "metadata": {},
   "outputs": [],
   "source": [
    "system = \"\"\"You are an AI assistant specializing in Korean Style Translation. Your task is explaining the reason why you translated the given sentence in such a way based on Korean grammar. \n",
    "The process follows the [Instruction] below.\n",
    "\n",
    "[Instruction]\n",
    "- You should be done for natural translation that can be easily understood by any Korean.\n",
    "- When explaining the reason why the sentence was translated, you must answer based on Korean grammar and given filter value(location, listener, intimacy).\n",
    "\n",
    "[Example1]\n",
    "<Input>\n",
    "Input_Sentence: \"나는 너를 사랑한다.\"\n",
    "Input__Filter - input_location: university, input_listener: student, input_intimacy: 1\n",
    "Translated_Sentence: \"난 널 사랑해\"\n",
    "Filter - location: online-chatting, listener: friend, intimacy: 3\n",
    "<Output> \n",
    "\"The transition from \"나는 너를 사랑한다\" to \"난 널 사랑해\" involves a change in speech level. The key difference lies in the choice between formal and informal language.\n",
    "\n",
    "나는 너를 사랑한다 (Formal):\n",
    "\n",
    "\"나는\" serves as the subject, meaning \"I,\" and \"너를\" represents \"you\" as the object.\n",
    "\"사랑한다\" is the verb expressing the action of loving, presented in a polite form.\n",
    "This sentence is a polite expression conveying one's feelings to the other person respectfully.\n",
    "난 널 사랑해 (Informal):\n",
    "\n",
    "\"난\" functions as the subject, meaning \"I,\" and \"널\" is the contracted form representing \"you\" as the object.\n",
    "\"사랑해\" is the verb expressing the action of loving, presented in an informal, more intimate form.\n",
    "This sentence is used in situations where there is a close relationship, and informal language is appropriate.\n",
    "The choice of speech level depends on the relationship and context between the speaker and the listener. Formal language is more courteous and polite, while informal language is used in more familiar and close relationships. The decision on which expression to use is influenced by the specific dynamics of the conversation and the relationship with the other person.\"\n",
    "\n",
    "Ensure that your translations perfectly adhere to these [Instructions].\n",
    "\"\"\""
   ]
  },
  {
   "cell_type": "code",
   "execution_count": 20,
   "metadata": {},
   "outputs": [],
   "source": [
    "def get_completion(prompt, model=\"gpt-4\"):\n",
    "    messages = [\n",
    "        {\"role\": \"system\", \"content\": system},\n",
    "        {\"role\": \"user\", \"content\": prompt}]\n",
    "    response = openai.ChatCompletion.create(\n",
    "        model=model,\n",
    "        messages=messages,\n",
    "        temperature=0, \n",
    "    )\n",
    "    return response.choices[0].message[\"content\"]"
   ]
  },
  {
   "cell_type": "code",
   "execution_count": 21,
   "metadata": {},
   "outputs": [],
   "source": [
    "input_sentence = \"얼마인가요?\"\n",
    "input_location = \"online-transaction\"\n",
    "input_listener = \"buyer\"\n",
    "input_intimacy = \"1\"\n",
    "\n",
    "translated_sentence = \"얼마야?\"\n",
    "location = \"university\"\n",
    "listener = \"friend\"\n",
    "intimacy = \"3\""
   ]
  },
  {
   "cell_type": "code",
   "execution_count": 22,
   "metadata": {},
   "outputs": [
    {
     "name": "stdout",
     "output_type": "stream",
     "text": [
      "The input sentence \"얼마인가요?\" is a formal way of asking \"How much is it?\" in Korean. The formal ending \"인가요?\" is used when the speaker is not close to the listener or in a formal situation. However, the translated sentence \"얼마야?\" is an informal way of asking the same question. The informal ending \"야?\" is used when the speaker is close to the listener or in an informal situation. The change in the level of formality from formal to informal is due to the increase in intimacy level from 1 to 3.\n"
     ]
    }
   ],
   "source": [
    "prompt = f\"\"\"Explain how the input sentence was translated into translated sentense based on the location, listener and intimacy of the input filter and the filter used in the translation. Print out your answer in less than 500 characters. The input sentence, translated sentence, and filters used are as follows.\n",
    "<Input>\n",
    "Input_Sentence: {input_sentence}\n",
    "Input__Filter - input_location: {input_location}, input_listener: {input_listener}, input_intimacy: {input_intimacy}\n",
    "Translated_Sentence: {translated_sentence}\n",
    "Filter - location: {location}, listener: {listener}, intimacy: {intimacy}\"\"\"\n",
    "\n",
    "response = get_completion(prompt)\n",
    "print(response)"
   ]
  },
  {
   "cell_type": "code",
   "execution_count": null,
   "metadata": {},
   "outputs": [],
   "source": []
  },
  {
   "cell_type": "code",
   "execution_count": null,
   "metadata": {},
   "outputs": [],
   "source": []
  }
 ],
 "metadata": {
  "kernelspec": {
   "display_name": "base",
   "language": "python",
   "name": "python3"
  },
  "language_info": {
   "codemirror_mode": {
    "name": "ipython",
    "version": 3
   },
   "file_extension": ".py",
   "mimetype": "text/x-python",
   "name": "python",
   "nbconvert_exporter": "python",
   "pygments_lexer": "ipython3",
   "version": "3.10.9"
  }
 },
 "nbformat": 4,
 "nbformat_minor": 2
}
