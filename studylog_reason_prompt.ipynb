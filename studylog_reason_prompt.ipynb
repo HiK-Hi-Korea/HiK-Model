{
 "cells": [
  {
   "cell_type": "code",
   "execution_count": 1,
   "metadata": {},
   "outputs": [],
   "source": [
    "import openai\n",
    "import os\n",
    "from dotenv import load_dotenv\n",
    "\n",
    "load_dotenv()\n",
    "\n",
    "OPENAI_API_KEY = os.getenv('OPENAI_API_KEY')\n",
    "openai.api_key = OPENAI_API_KEY"
   ]
  },
  {
   "cell_type": "code",
   "execution_count": 2,
   "metadata": {},
   "outputs": [],
   "source": [
    "system = \"\"\"You are an AI assistant specializing in Korean Style Translation. Your task is explaining the reason why you translated the given sentence in such a way based on Korean grammar. \n",
    "The process follows the [Instruction] below.\n",
    "\n",
    "[Instruction]\n",
    "- You should be done for natural translation that can be easily understood by any Korean.\n",
    "- When explaining the reason why the sentence was translated, you must answer based on Korean grammar and given filter value(location, listener, intimacy).\n",
    "\n",
    "[Example1]\n",
    "<Input>\n",
    "Input_Sentence: \"사랑합니다.\"\n",
    "Input__Filter - input_location: university, input_listener: professor, input_intimacy: 1\n",
    "Translated_Sentence: \"사랑해\"\n",
    "Filter - location: online-chatting, listener: friend, intimacy: 3\n",
    "<Output> \n",
    "\"한국어에서 \"합니다\"와 \"해\"는 존댓말과 반말의 차이를 나타냅니다. \"합니다\"는 공손한 표현으로 교수님과 같은 상황에서 사용되며, \"해\"는 반말로 더 친밀한 친구나 가족과의 대화에서 쓰입니다. \"사랑합니다\"는 공손한 표현으로 교수님에게, \"사랑해\"는 반말로 친구에게 사용된 것이며, 이는 한국어의 존댓말과 반말의 관습에 따른 선택입니다.\"\n",
    "\n",
    "Ensure that your translations perfectly adhere to these [Instructions].\n",
    "\"\"\""
   ]
  },
  {
   "cell_type": "code",
   "execution_count": 3,
   "metadata": {},
   "outputs": [],
   "source": [
    "def get_completion(prompt, model=\"gpt-4\"):\n",
    "    messages = [\n",
    "        {\"role\": \"system\", \"content\": system},\n",
    "        {\"role\": \"user\", \"content\": prompt}]\n",
    "    response = openai.ChatCompletion.create(\n",
    "        model=model,\n",
    "        messages=messages,\n",
    "        temperature=0, \n",
    "    )\n",
    "    return response.choices[0].message[\"content\"]"
   ]
  },
  {
   "cell_type": "code",
   "execution_count": 4,
   "metadata": {},
   "outputs": [],
   "source": [
    "input_sentence = \"얼마인가요?\"\n",
    "input_location = \"online-transaction\"\n",
    "input_listener = \"buyer\"\n",
    "input_intimacy = \"1\"\n",
    "\n",
    "translated_sentence = \"얼마야?\"\n",
    "location = \"university\"\n",
    "listener = \"friend\"\n",
    "intimacy = \"3\""
   ]
  },
  {
   "cell_type": "code",
   "execution_count": 6,
   "metadata": {},
   "outputs": [
    {
     "name": "stdout",
     "output_type": "stream",
     "text": [
      "\"얼마인가요?\"와 \"얼마야?\"는 가격을 묻는 표현이지만, 사용되는 상황과 대상에 따라 달라집니다. \"얼마인가요?\"는 존댓말로, 공식적인 상황이나 낯선 사람에게 사용됩니다. 이 경우, 온라인 거래에서 구매자에게 사용되었습니다. 반면에 \"얼마야?\"는 반말로, 친한 친구와 같이 친밀한 관계에서 사용됩니다. 따라서, 대학교에서 친구에게 사용된 것입니다. 이러한 차이는 한국어의 존댓말과 반말의 관습에 따른 것입니다.\n"
     ]
    }
   ],
   "source": [
    "prompt = f\"\"\"Explain how the input sentence was translated into translated sentense based on the location, listener and intimacy of the input filter and the filter used in the translation. Print out your answer in less than 500 characters. The input sentence, translated sentence, and filters used are as follows.\n",
    "<Input>\n",
    "Input_Sentence: {input_sentence}\n",
    "Input__Filter - input_location: {input_location}, input_listener: {input_listener}, input_intimacy: {input_intimacy}\n",
    "Translated_Sentence: {translated_sentence}\n",
    "Filter - location: {location}, listener: {listener}, intimacy: {intimacy}\"\"\"\n",
    "\n",
    "response = get_completion(prompt)\n",
    "print(response)"
   ]
  },
  {
   "cell_type": "code",
   "execution_count": null,
   "metadata": {},
   "outputs": [],
   "source": []
  },
  {
   "cell_type": "code",
   "execution_count": null,
   "metadata": {},
   "outputs": [],
   "source": []
  }
 ],
 "metadata": {
  "kernelspec": {
   "display_name": "base",
   "language": "python",
   "name": "python3"
  },
  "language_info": {
   "codemirror_mode": {
    "name": "ipython",
    "version": 3
   },
   "file_extension": ".py",
   "mimetype": "text/x-python",
   "name": "python",
   "nbconvert_exporter": "python",
   "pygments_lexer": "ipython3",
   "version": "3.10.9"
  }
 },
 "nbformat": 4,
 "nbformat_minor": 2
}
