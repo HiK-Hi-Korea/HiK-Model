{
 "cells": [
  {
   "cell_type": "code",
   "execution_count": 1,
   "metadata": {},
   "outputs": [],
   "source": [
    "import openai\n",
    "import os\n",
    "from dotenv import load_dotenv\n",
    "\n",
    "load_dotenv()\n",
    "\n",
    "OPENAI_API_KEY = os.getenv('OPENAI_API_KEY')\n",
    "openai.api_key = OPENAI_API_KEY"
   ]
  },
  {
   "cell_type": "code",
   "execution_count": 2,
   "metadata": {},
   "outputs": [],
   "source": [
    "system = \"\"\"You are an AI assistant specializing in English to Korean translation and Korean Style Translation.\n",
    "Your task is explaining the reason why you translated the given sentence in such a way based on Korean grammar. \n",
    "The process follows the [Instruction] below.\n",
    "\n",
    "[Instruction]\n",
    "- You should be done for natural translation that can be easily understood by any Korean.\n",
    "- When explaining the reason why the sentence was translated, you must answer based on Korean grammar and given filter value(location, listener, intimacy).\n",
    "\n",
    "[Example1]\n",
    "<Input>\n",
    "Input_Sentence: \"How much is it?\"\n",
    "Input__Filter - input_location: university, input_listener: professor, input_intimacy: 1\n",
    "Translated_Sentence: \"얼마인가요?\"\n",
    "<Output> \n",
    "\"한국어에서는 말하는 상황과 대상에 따라 존댓말과 반말을 사용하는데, \"얼마인가요?\"는 상대방에게 존경을 표시하는 존댓말입니다. 대학교 교수님은 학문적인 환경에서 규정된 교육 기관의 일원으로서 존경받는 입장이기 때문에, 그들에게 말할 때는 존댓말을 사용하는 것이 일반적입니다. \"인가요\"는 높임법으로, \"이다\"의 높임법 형태인데, 이것이 문장 끝에 사용되면 존댓말의 높임법을 나타냅니다.\n",
    "\n",
    "따라서 \"얼마인가요?\"는 대학교 교수님과 같이 정식적인 환경에서 상대방에게 물을 때 사용되는 공손한 표현입니다. 만약 비공식적인 상황에서 친밀도 1인 상대에게 물을 때는 \"얼마야?\"와 같은 반말을 사용할 수 있습니다.\"\n",
    "\n",
    "Ensure that your translations perfectly adhere to these [Instructions].\n",
    "\"\"\""
   ]
  },
  {
   "cell_type": "code",
   "execution_count": 3,
   "metadata": {},
   "outputs": [],
   "source": [
    "def get_completion(prompt, model=\"gpt-4\"):\n",
    "    messages = [\n",
    "        {\"role\": \"system\", \"content\": system},\n",
    "        {\"role\": \"user\", \"content\": prompt}]\n",
    "    response = openai.ChatCompletion.create(\n",
    "        model=model,\n",
    "        messages=messages,\n",
    "        temperature=0, \n",
    "    )\n",
    "    return response.choices[0].message[\"content\"]"
   ]
  },
  {
   "cell_type": "code",
   "execution_count": 4,
   "metadata": {},
   "outputs": [],
   "source": [
    "input_sentence = \"I love you\"\n",
    "input_location = \"online-chatting\"\n",
    "input_listener = \"friend\"\n",
    "input_intimacy = \"3\"\n",
    "\n",
    "translated_sentence = \"사랑해\""
   ]
  },
  {
   "cell_type": "code",
   "execution_count": 5,
   "metadata": {},
   "outputs": [
    {
     "name": "stdout",
     "output_type": "stream",
     "text": [
      "\"사랑해\"는 한국어로 \"I love you\"를 직역한 표현입니다. 이 경우, 대화 상황이 온라인 채팅이고, 대화 상대가 친구이며, 친밀도가 3인 것을 고려하였습니다. 한국어에서는 친밀도에 따라 존댓말과 반말을 사용하는데, 친밀도가 높을수록 반말을 사용하는 경향이 있습니다. 따라서 이 경우에는 \"사랑해\"라는 반말 표현을 사용하였습니다. 만약 친밀도가 낮거나, 상대가 더 공식적인 관계였다면 \"사랑합니다\"와 같은 존댓말 표현을 사용하였을 것입니다.\n"
     ]
    }
   ],
   "source": [
    "prompt = f\"\"\"Explain how the input sentence was translated into translated sentense based on the location, listener and intimacy of the input filter. Print out your answer in less than 500 characters. The input sentence, translated sentence, and input filter used are as follows.\n",
    "<Input>\n",
    "Input_Sentence: {input_sentence}\n",
    "Input__Filter - input_location: {input_location}, input_listener: {input_listener}, input_intimacy: {input_intimacy}\n",
    "Translated_Sentence: {translated_sentence}\"\"\"\n",
    "\n",
    "response = get_completion(prompt)\n",
    "print(response)"
   ]
  },
  {
   "cell_type": "code",
   "execution_count": null,
   "metadata": {},
   "outputs": [],
   "source": []
  },
  {
   "cell_type": "code",
   "execution_count": null,
   "metadata": {},
   "outputs": [],
   "source": []
  }
 ],
 "metadata": {
  "kernelspec": {
   "display_name": "base",
   "language": "python",
   "name": "python3"
  },
  "language_info": {
   "codemirror_mode": {
    "name": "ipython",
    "version": 3
   },
   "file_extension": ".py",
   "mimetype": "text/x-python",
   "name": "python",
   "nbconvert_exporter": "python",
   "pygments_lexer": "ipython3",
   "version": "3.10.9"
  }
 },
 "nbformat": 4,
 "nbformat_minor": 2
}
